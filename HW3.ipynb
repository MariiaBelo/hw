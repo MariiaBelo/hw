{
 "cells": [
  {
   "cell_type": "markdown",
   "metadata": {},
   "source": [
    "## Задание 1\n",
    "Создайте numpy array с элементами от числа N до 0 (например, для N = 10 это будет array([9, 8, 7, 6, 5, 4, 3, 2, 1, 0]))."
   ]
  },
  {
   "cell_type": "code",
   "execution_count": 1,
   "metadata": {},
   "outputs": [
    {
     "name": "stdout",
     "output_type": "stream",
     "text": [
      "Give me a number\n"
     ]
    },
    {
     "name": "stdin",
     "output_type": "stream",
     "text": [
      " 10\n"
     ]
    },
    {
     "data": {
      "text/plain": [
       "array([9, 8, 7, 6, 5, 4, 3, 2, 1, 0])"
      ]
     },
     "execution_count": 1,
     "metadata": {},
     "output_type": "execute_result"
    }
   ],
   "source": [
    "import numpy as np\n",
    "print(\"Give me a number\")\n",
    "N=int(input())\n",
    "pochti=[g for g in range(N-1,-1,-1)]\n",
    "V=np.array(pochti)   \n",
    "V"
   ]
  },
  {
   "cell_type": "markdown",
   "metadata": {},
   "source": [
    "## Задание 2\n",
    "Создайте диагональную матрицу с элементами от N до 0. Посчитайте сумму ее значений на диагонали."
   ]
  },
  {
   "cell_type": "code",
   "execution_count": 2,
   "metadata": {},
   "outputs": [
    {
     "name": "stdout",
     "output_type": "stream",
     "text": [
      "Give me a number\n"
     ]
    },
    {
     "name": "stdin",
     "output_type": "stream",
     "text": [
      " 11\n"
     ]
    },
    {
     "name": "stdout",
     "output_type": "stream",
     "text": [
      "[[10  0  0  0  0  0  0  0  0  0  0]\n",
      " [ 0  9  0  0  0  0  0  0  0  0  0]\n",
      " [ 0  0  8  0  0  0  0  0  0  0  0]\n",
      " [ 0  0  0  7  0  0  0  0  0  0  0]\n",
      " [ 0  0  0  0  6  0  0  0  0  0  0]\n",
      " [ 0  0  0  0  0  5  0  0  0  0  0]\n",
      " [ 0  0  0  0  0  0  4  0  0  0  0]\n",
      " [ 0  0  0  0  0  0  0  3  0  0  0]\n",
      " [ 0  0  0  0  0  0  0  0  2  0  0]\n",
      " [ 0  0  0  0  0  0  0  0  0  1  0]\n",
      " [ 0  0  0  0  0  0  0  0  0  0  0]]\n",
      "Solution 1: The sum of diagonal's elements is  55\n",
      "Solution 2: The sum of diagonal's elements is  55\n",
      "Solution 3: The sum of diagonal's elements is  55\n",
      "Solution 4: The sum of diagonal's elements is  55\n"
     ]
    }
   ],
   "source": [
    "print(\"Give me a number\")\n",
    "N=int(input())\n",
    "pochti=[g for g in range(N-1,-1,-1)]\n",
    "V=np.diag(pochti) \n",
    "print(V)\n",
    "#Another method\n",
    "V0=np.diag(np.arange(N-1,-1,-1))\n",
    "#Solution 1\n",
    "S1=sum(np.diag(V).tolist())\n",
    "print(\"Solution 1: The sum of diagonal's elements is \",S1)\n",
    "#Solution 2 \n",
    "S2=sum([i for i in V[(V>0)]])\n",
    "print(\"Solution 2: The sum of diagonal's elements is \",S2)\n",
    "#Solution 3 \n",
    "S3=sum([V[i,i] for i in range(N-1,-1,-1)])\n",
    "print(\"Solution 3: The sum of diagonal's elements is \",S3)\n",
    "#Solution 4 (the easiest one)\n",
    "S4=np.sum(np.diag(V))\n",
    "print(\"Solution 4: The sum of diagonal's elements is \",S4)\n"
   ]
  },
  {
   "cell_type": "markdown",
   "metadata": {},
   "source": [
    "## Задание 3\n",
    "Решите систему уравнений:\n",
    "* 4x + 2y + z = 4\n",
    "* x + 3y = 12\n",
    "* 5y + 4z = -3"
   ]
  },
  {
   "cell_type": "code",
   "execution_count": 3,
   "metadata": {},
   "outputs": [
    {
     "name": "stdout",
     "output_type": "stream",
     "text": [
      "[[ 0.5]\n",
      " [ 3.8]\n",
      " [-5.6]]\n",
      "[[ 0.5]\n",
      " [ 3.8]\n",
      " [-5.6]]\n",
      "x= 0.5 , y= 3.8 , z= -5.6\n"
     ]
    }
   ],
   "source": [
    "from numpy import linalg\n",
    "A = np.matrix([[4, 2, 1], [1, 3, 0], [0, 5, 4]])\n",
    "B = np.matrix([[4], [12], [-3]])\n",
    "XYZ = np.around(np.linalg.solve(A, B),decimals=1)\n",
    "print(XYZ)\n",
    "#OR\n",
    "O=linalg.inv(A)\n",
    "XYZ1=np.around(O*B,decimals=1)\n",
    "print(XYZ1)\n",
    "print(\"x=\",round(XYZ[0,0],1),\", y=\",round(XYZ[1,0],1),\", z=\",round(XYZ[2,0],1))"
   ]
  },
  {
   "cell_type": "markdown",
   "metadata": {},
   "source": [
    "## Задание 4\n",
    "Вам подаются на вход два вектора a и b в трехмерном пространстве.Заполните их случайными числами. Реализуйте их скалярное произведение с помощью NumPy."
   ]
  },
  {
   "cell_type": "code",
   "execution_count": 4,
   "metadata": {},
   "outputs": [
    {
     "name": "stdin",
     "output_type": "stream",
     "text": [
      "Vector a: (1,2,3)\n",
      "Vector b: (1,2,3)\n"
     ]
    },
    {
     "name": "stdout",
     "output_type": "stream",
     "text": [
      "Vector a after replacement (-50, -98, 57) \n",
      "Vector b after replacement (-2, -79, 61)\n",
      "Dot product of vectors a and b is 11319\n"
     ]
    }
   ],
   "source": [
    "#If vector looks like (x,y,z):\n",
    "from random import randint\n",
    "\n",
    "a=input(\"Vector a:\")\n",
    "b=input(\"Vector b:\")\n",
    "i=np.array([int(a1) for a1 in a.replace(\"(\",\"\").replace(\")\",\"\").split(\",\")])\n",
    "j=np.array([int(b1) for b1 in b.replace(\"(\",\"\").replace(\")\",\"\").split(\",\")])\n",
    "for n,e in enumerate(i):\n",
    "    i[n]=randint(-100,100)\n",
    "for n,e in enumerate(j):\n",
    "    j[n]=randint(-100,100)\n",
    "\n",
    "v1=tuple(i)#making it looks like a vector\n",
    "v2=tuple(j)\n",
    "print(\"Vector a after replacement\",v1,\"\\nVector b after replacement\",v2)\n",
    "DP=np.dot(i,j)\n",
    "print(\"Dot product of vectors a and b is\",DP)\n",
    "\n"
   ]
  },
  {
   "cell_type": "code",
   "execution_count": null,
   "metadata": {},
   "outputs": [],
   "source": []
  }
 ],
 "metadata": {
  "kernelspec": {
   "display_name": "Python 3 (ipykernel)",
   "language": "python",
   "name": "python3"
  },
  "language_info": {
   "codemirror_mode": {
    "name": "ipython",
    "version": 3
   },
   "file_extension": ".py",
   "mimetype": "text/x-python",
   "name": "python",
   "nbconvert_exporter": "python",
   "pygments_lexer": "ipython3",
   "version": "3.9.12"
  }
 },
 "nbformat": 4,
 "nbformat_minor": 4
}
